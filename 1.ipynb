{
 "cells": [
  {
   "cell_type": "code",
   "execution_count": 71,
   "metadata": {},
   "outputs": [],
   "source": [
    "%matplotlib inline\n",
    "import numpy as np \n",
    "import matplotlib.pyplot as plt\n",
    "from scipy import stats\n",
    "\n",
    "from scipy.stats import norm"
   ]
  },
  {
   "cell_type": "code",
   "execution_count": 72,
   "metadata": {},
   "outputs": [],
   "source": [
    "n1 = 100\n",
    "n2 = 100\n"
   ]
  },
  {
   "cell_type": "code",
   "execution_count": 73,
   "metadata": {},
   "outputs": [],
   "source": [
    "def gen_x1():\n",
    "    return np.random.normal(1, 2, n1)\n",
    "def gen_x2():\n",
    "    return np.random.uniform(-1, 1, n2)\n",
    "x1 = gen_x1()\n",
    "x2 = gen_x2()"
   ]
  },
  {
   "cell_type": "code",
   "execution_count": 74,
   "metadata": {},
   "outputs": [
    {
     "name": "stdout",
     "output_type": "stream",
     "text": [
      "Среднее 0.982647864247411, s=1.86179665814133, s^2=3.466286796266225\n",
      "Среднее 0.0510984228293162, s=0.5418033634161239, s^2=0.29355088460902445\n",
      "Среднее 0.5168731435383637, s=1.4480555689921626, s^2=2.0968649308892156\n"
     ]
    }
   ],
   "source": [
    "def print_sample_chars(sample):\n",
    "    print(\"Среднее {}, s={}, s^2={}\".format(\n",
    "        np.mean(sample),\n",
    "        np.std(sample),\n",
    "        np.var(sample)\n",
    "    ))\n",
    "\n",
    "print_sample_chars(x1)\n",
    "print_sample_chars(x2)\n",
    "pooled = np.concatenate([x1, x2])\n",
    "print_sample_chars(pooled)"
   ]
  },
  {
   "cell_type": "code",
   "execution_count": 100,
   "metadata": {},
   "outputs": [
    {
     "name": "stdout",
     "output_type": "stream",
     "text": [
      "Значение критерия: 2.778778947154585, критическое значение: 1.6603911559963895\n",
      "Гипотеза H0 отклоняется\n",
      "Двустороннее p-value: 0.006529430613994973\n"
     ]
    }
   ],
   "source": [
    "def criterion_t_test(sample): # H0: мат ожидание = 5.3 , сигма неизвестна\n",
    "    s = np.std(sample) # s - оценка с.к.о.\n",
    "    mean = np.mean(sample) # выборочное среднее\n",
    "    m0 = 1.5 # основная гипотеза: МО генеральной совокупности для x2 составляет m0\n",
    "    return (mean - m0) / s * np.sqrt(len(sample))\n",
    "t_test_dist = stats.t\n",
    "\n",
    "# t-test\n",
    "criterion_value = criterion_t_test(x1) # значение статистики критерия для гипотезы H0: m = 5.3, сигма неизвестна\n",
    "\n",
    "alpha = 0.1 # задаёмся уровнем значимости\n",
    "student_quantile = t_test_dist.ppf(1 - alpha / 2, n1 - 1) # рассчитываем квантиль распределения Стьюдента\n",
    "#Альтернативная гипотеза H': m != 5.3 \n",
    "critical_value = student_quantile # критическое значение статистики критерия\n",
    "\n",
    "print(\"Значение критерия: {}, критическое значение: {}\".format(abs(criterion_value), critical_value))\n",
    "\n",
    "is_h0_true = abs(criterion_value) < critical_value\n",
    "\n",
    "print(\"Гипотеза H0 принимается\" if is_h0_true else \"Гипотеза H0 отклоняется\")\n",
    "\n",
    "# статистика критерия в предыдущем примере распределена как T(n1 - 1)\n",
    "def left_p_value(dist, criterion_value, sample_size):\n",
    "    return dist.cdf(criterion_value, sample_size - 1)\n",
    "\n",
    "def right_p_value(dist, criterion_value, sample_size):\n",
    "    return 1 - dist.cdf(criterion_value, sample_size - 1)\n",
    "\n",
    "def two_sided_p_value(dist, criterion_value, sample_size):\n",
    "    left_p = left_p_value(dist, criterion_value, sample_size)\n",
    "    return 2 * min(left_p, 1 - left_p)\n",
    "\n",
    "print(\"Двустороннее p-value: {}\".format( two_sided_p_value(t_test_dist, criterion_value, n1) ))"
   ]
  },
  {
   "cell_type": "code",
   "execution_count": 76,
   "metadata": {},
   "outputs": [
    {
     "name": "stdout",
     "output_type": "stream",
     "text": [
      "Значение критерия: -0.08676067876294491, критическое значение: 100.64485362695147\n",
      "Гипотеза H0 принимается\n",
      "Правостороннее p-value: 0.5345691282400089\n"
     ]
    }
   ],
   "source": [
    "def criterion_z_test(sample): # H0: мат ожидание = 5.3 , сигма известна\n",
    "    m0 = 1\n",
    "    sigma = 2\n",
    "    mean = np.mean(sample)\n",
    "    n = len(sample)\n",
    "    return (mean - m0) / sigma * np.sqrt(n)\n",
    "\n",
    "z_test_dist = stats.norm\n",
    "\n",
    "# z-test\n",
    "criterion_value = criterion_z_test(x1) # значение статистики критерия для гипотезы H0: m = 5.3, сигма известна\n",
    "#Альтернативная гипотеза H': m>5\n",
    "alpha = 0.1 # задаёмся уровнем значимости\n",
    "normal_quantile = z_test_dist.ppf(1 - alpha / 2, n1 - 1) # рассчитываем квантиль нормального распределения\n",
    "\n",
    "critical_value = normal_quantile # критическое значение статистики критерия\n",
    "\n",
    "print(\"Значение критерия: {}, критическое значение: {}\".format((criterion_value), critical_value))\n",
    "\n",
    "is_h0_true = criterion_value < critical_value\n",
    "\n",
    "print(\"Гипотеза H0 принимается\" if is_h0_true else \"Гипотеза H0 отклоняется\")\n",
    "\n",
    "# статистика критерия в предыдущем примере распределена как N(0,1)\n",
    "def left_p_value(dist, criterion_value, sample_size):\n",
    "    return dist.cdf(criterion_value, 0,1)\n",
    "\n",
    "def right_p_value(dist, criterion_value, sample_size):\n",
    "    return 1 - dist.cdf(criterion_value, 0 ,1)\n",
    "\n",
    "def two_sided_p_value(dist, criterion_value, sample_size):\n",
    "    left_p = left_p_value(dist, criterion_value, sample_size)\n",
    "    return 2 * min(left_p, 1 - left_p)\n",
    "\n",
    "print(\"Правостороннее p-value: {}\".format( right_p_value(z_test_dist, criterion_value, n1) ))"
   ]
  },
  {
   "cell_type": "code",
   "execution_count": 77,
   "metadata": {},
   "outputs": [
    {
     "name": "stdout",
     "output_type": "stream",
     "text": [
      "Значение критерия: 86.66469732203497, критическое значение1: 77.92946516501726, критическое значение2: 124.34211340400407\n",
      "Гипотеза H0 принимается\n",
      "Двустороннее p-value: 0.3468320663130282\n"
     ]
    }
   ],
   "source": [
    "def criterion_chi2_m(sample): # m известно\n",
    "    S0 = 2\n",
    "    n = len(sample)\n",
    "    m=1\n",
    "    S=0\n",
    "    for i in sample:\n",
    "        S += (i-m)*(i-m)\n",
    "    S /= 100\n",
    "    return ((n*S)/(S0*S0))\n",
    "    \n",
    "chi2_test_dist = stats.chi2\n",
    "    \n",
    "# chi^2-test\n",
    "criterion_value = criterion_chi2_m(x1) # значение статистики критерия для гипотезы H0: sigma^2 = 4.5, m известно\n",
    "#Альтернативная гипотеза H': sigma^2 < 4.5\n",
    "alpha = 0.1 # задаёмся уровнем значимости\n",
    "chisquare_quantile1 = chi2_test_dist.ppf(alpha/2,n1) # рассчитываем квантиль распределения хи-квадрат\n",
    "chisquare_quantile2 = chi2_test_dist.ppf(1-alpha/2,n1) # рассчитываем квантиль распределения хи-квадрат\n",
    "critical_value1 = chisquare_quantile1 # критическое значение статистики критерия\n",
    "critical_value2 = chisquare_quantile2 # критическое значение статистики критерия\n",
    "\n",
    "print(\"Значение критерия: {}, критическое значение1: {}, критическое значение2: {}\".format(criterion_value, \n",
    "                                                                                           critical_value1,\n",
    "                                                                                           critical_value2))\n",
    "\n",
    "is_h0_true1 = critical_value1 < criterion_value \n",
    "is_h0_true2 = criterion_value < critical_value2\n",
    "print(\"Гипотеза H0 принимается\" if (is_h0_true1 and is_h0_true2) else \"Гипотеза H0 отклоняется\")\n",
    "\n",
    "# статистика критерия в предыдущем примере распределена как chi^2(n1)\n",
    "def left_p_value(dist, criterion_value, sample_size):\n",
    "    return dist.cdf(criterion_value, sample_size)\n",
    "\n",
    "def right_p_value(dist, criterion_value, sample_size):\n",
    "    return 1 - dist.cdf(criterion_value, sample_size)\n",
    "\n",
    "def two_sided_p_value(dist, criterion_value, sample_size):\n",
    "    left_p = left_p_value(dist, criterion_value, sample_size)\n",
    "    return 2 * min(left_p, 1 - left_p)\n",
    "\n",
    "print(\"Двустороннее p-value: {}\".format( two_sided_p_value(chi2_test_dist, criterion_value, n1) ))"
   ]
  },
  {
   "cell_type": "code",
   "execution_count": 78,
   "metadata": {},
   "outputs": [
    {
     "name": "stdout",
     "output_type": "stream",
     "text": [
      "Значение критерия: 106.98416037858716, критическое значение1: 77.0463318637603, критическое значение2: 123.2252214533618\n",
      "Гипотеза H0 принимается\n",
      "Двустороннее p-value: 0.5485552361087458\n"
     ]
    }
   ],
   "source": [
    "\n",
    "def criterion_chi2_no_m(sample):\n",
    "    S0 = 1.8\n",
    "    n = len(sample)\n",
    "    m = np.mean(x1)\n",
    "    S = 0\n",
    "    for i in sample:\n",
    "        S += (i-m)*(i-m)\n",
    "    S /= 99\n",
    "    return (((n-1)*S)/(S0*S0))\n",
    "\n",
    "chi2_test_dist = stats.chi2\n",
    "\n",
    "# chi^2 no m -test\n",
    "criterion_value = criterion_chi2_no_m(x1) # значение статистики критерия для гипотезы H0: sigma^2 = 4.5, m неизвестно\n",
    "#Альтернативная гипотеза H': sigma^2 < 4.5\n",
    "alpha = 0.1 # задаёмся уровнем значимости\n",
    "chisquare_quantile1 = chi2_test_dist.ppf(alpha/2,n1-1) # рассчитываем квантиль распределения хи-квадрат\n",
    "chisquare_quantile2 = chi2_test_dist.ppf(1-alpha/2,n1-1) # рассчитываем квантиль распределения хи-квадрат\n",
    "critical_value1 = chisquare_quantile1 # критическое значение статистики критерия\n",
    "critical_value2 = chisquare_quantile2 # критическое значение статистики критерия\n",
    "\n",
    "print(\"Значение критерия: {}, критическое значение1: {}, критическое значение2: {}\".format(criterion_value, \n",
    "                                                                                           critical_value1,\n",
    "                                                                                           critical_value2))\n",
    "\n",
    "\n",
    "is_h0_true1 = critical_value1 < criterion_value \n",
    "is_h0_true2 = criterion_value < critical_value2\n",
    "print(\"Гипотеза H0 принимается\" if (is_h0_true1 and is_h0_true2) else \"Гипотеза H0 отклоняется\")\n",
    "\n",
    "# статистика критерия в предыдущем примере распределена как chi^2(n1-1)\n",
    "def left_p_value(dist, criterion_value, sample_size):\n",
    "    return dist.cdf(criterion_value, sample_size-1)\n",
    "\n",
    "def right_p_value(dist, criterion_value, sample_size):\n",
    "    return 1 - dist.cdf(criterion_value, sample_size-1)\n",
    "\n",
    "def two_sided_p_value(dist, criterion_value, sample_size):\n",
    "    left_p = left_p_value(dist, criterion_value, sample_size)\n",
    "    return 2 * min(left_p, 1 - left_p)\n",
    "\n",
    "print(\"Двустороннее p-value: {}\".format( two_sided_p_value(chi2_test_dist, criterion_value, n1) ))"
   ]
  },
  {
   "cell_type": "code",
   "execution_count": 79,
   "metadata": {},
   "outputs": [
    {
     "name": "stdout",
     "output_type": "stream",
     "text": [
      "Значение критерия: 4.804203128891326, критическое значение: 1.6525857836172075\n",
      "Гипотеза H0 отклоняется\n",
      "Двустороннее p-value: 3.062845917556345e-06\n"
     ]
    }
   ],
   "source": [
    "def criterion_t2_test(sample1, sample2):\n",
    "    n1 = len(sample1)\n",
    "    n2 = len(sample2)\n",
    "    S1 = np.var(sample1)\n",
    "    S2 = np.var(sample2)\n",
    "    m1 = np.mean(sample1)\n",
    "    m2 = np.mean(sample2)\n",
    "    z = (m1 - m2)\n",
    "    z /= np.sqrt(S1 / n1 + S2 / n2)\n",
    "    return z\n",
    "\n",
    "\n",
    "\n",
    "\n",
    "# t2-test\n",
    "criterion_value = criterion_t2_test(x1,x2) # значение статистики критерия для гипотезы H0: m1=m2, сигмы неизвестна\n",
    "\n",
    "alpha = 0.1 # задаёмся уровнем значимости\n",
    "student_quantile2 = t_test_dist.ppf(1 - alpha / 2, n1+n2 - 2) # рассчитываем квантиль распределения Стьюдента\n",
    "\n",
    "critical_value = student_quantile2 # критическое значение статистики критерия\n",
    "\n",
    "print(\"Значение критерия: {}, критическое значение: {}\".format(abs(criterion_value), critical_value))\n",
    "\n",
    "is_h0_true = abs(criterion_value) < critical_value\n",
    "\n",
    "print(\"Гипотеза H0 принимается\" if is_h0_true else \"Гипотеза H0 отклоняется\")\n",
    "\n",
    "\n",
    "\n",
    "# статистика критерия в предыдущем примере распределена как T(n1 + n2 - 2)\n",
    "def left_p_value(dist, criterion_value, sample_size1 , sample_size2):\n",
    "    return dist.cdf(criterion_value, sample_size1 + sample_size2 - 2)\n",
    "\n",
    "def right_p_value(dist, criterion_value, sample_size1 , sample_size2):\n",
    "    return 1 - dist.cdf(criterion_value, sample_size1 + sample_size2 - 2)\n",
    "\n",
    "def two_sided_p_value(dist, criterion_value, sample_size1 , sample_size2):\n",
    "    left_p = left_p_value(dist, criterion_value, sample_size1 , sample_size2)\n",
    "    return 2 * min(left_p, 1 - left_p)\n",
    "\n",
    "print(\"Двустороннее p-value: {}\".format( two_sided_p_value(t_test_dist, criterion_value, n1,n2) ))"
   ]
  },
  {
   "cell_type": "code",
   "execution_count": 80,
   "metadata": {},
   "outputs": [
    {
     "name": "stdout",
     "output_type": "stream",
     "text": [
      "Значение критерия: 11.705042078823281, критическое значение1: 0.7185355690452617, критическое значение2: 1.3917195516552203\n",
      "Гипотеза H0 отклоняется\n",
      "Двустороннее p-value: 2.220446049250313e-16\n"
     ]
    }
   ],
   "source": [
    "def criterion_f_test_m(sample1, sample2):\n",
    "    \n",
    "    s1=0\n",
    "    m1=1\n",
    "    m2=0\n",
    "    for i in sample1:\n",
    "        s1 += (i-m1)*(i-m1)\n",
    "    s1 /= 100\n",
    "    s2=0\n",
    "    for i in sample2:\n",
    "        s2 += (i-m2)*(i-m2)\n",
    "    s2 /= 100\n",
    "    \n",
    "    return (s1)/(s2)\n",
    "\n",
    "chi2_test_f_dist = stats.f\n",
    "\n",
    "# 2-sample-F-test\n",
    "criterion_value = criterion_f_test_m(x1,x2) # значение статистики критерия для гипотезы H0: m1=m2, сигмы неизвестна\n",
    "\n",
    "alpha = 0.1 # задаёмся уровнем значимости\n",
    "fisher_quantile1 = chi2_test_f_dist.ppf(alpha / 2, n1,n2) # рассчитываем квантиль распределения Стьюдента\n",
    "fisher_quantile2 = chi2_test_f_dist.ppf(1 - alpha / 2, n1,n2) # рассчитываем квантиль распределения Стьюдента\n",
    "\n",
    "critical_value1 = fisher_quantile1 # критическое значение статистики критерия\n",
    "critical_value2 = fisher_quantile2 # критическое значение статистики критерия\n",
    "\n",
    "print(\"Значение критерия: {}, критическое значение1: {}, критическое значение2: {}\".format(criterion_value, \n",
    "                                                                                           critical_value1,\n",
    "                                                                                           critical_value2))\n",
    "\n",
    "is_h0_true1 = critical_value1 < criterion_value \n",
    "is_h0_true2 = criterion_value < critical_value2\n",
    "\n",
    "print(\"Гипотеза H0 принимается\" if (is_h0_true1 and is_h0_true2) else \"Гипотеза H0 отклоняется\")\n",
    "\n",
    "# статистика критерия в предыдущем примере распределена как F(n1,n2)\n",
    "def left_p_value(dist, criterion_value, sample_size1 , sample_size2):\n",
    "    return dist.cdf(criterion_value, sample_size1 , sample_size2 )\n",
    "\n",
    "def right_p_value(dist, criterion_value, sample_size1 , sample_size2):\n",
    "    return 1 - dist.cdf(criterion_value, sample_size1 , sample_size2)\n",
    "\n",
    "def two_sided_p_value(dist, criterion_value, sample_size1 , sample_size2):\n",
    "    left_p = left_p_value(dist, criterion_value, sample_size1 , sample_size2)\n",
    "    return 2 * min(left_p, 1 - left_p)\n",
    "\n",
    "print(\"Двустороннее p-value: {}\".format( two_sided_p_value(chi2_test_f_dist, criterion_value, n1,n2) ))"
   ]
  },
  {
   "cell_type": "code",
   "execution_count": 81,
   "metadata": {},
   "outputs": [
    {
     "name": "stdout",
     "output_type": "stream",
     "text": [
      "Значение критерия: 11.808129281854878, критическое значение1: 0.7173285927924351, критическое значение2: 1.3940612573481483\n",
      "Гипотеза H0 отклоняется\n",
      "Двустороннее p-value: 2.220446049250313e-16\n"
     ]
    }
   ],
   "source": [
    "def criterion_f_test_no_m(sample1, sample2):\n",
    "    m1 = np.mean(sample1)\n",
    "    m2 = np.mean(sample2)\n",
    "    s1 = 0\n",
    "    for i in sample1:\n",
    "        s1 += (i-m1)*(i-m1)\n",
    "    s1 /= 99\n",
    "    \n",
    "    s2 = 0\n",
    "    for i in sample2:\n",
    "        s2 += (i-m2)*(i-m2)\n",
    "    s2 /= 99\n",
    "    \n",
    "    return (s1)/(s2)\n",
    "\n",
    "chi2_test_f_dist = stats.f\n",
    "\n",
    "# 2-sample-F-no-m-test\n",
    "criterion_value = criterion_f_test_no_m(x1,x2) # значение статистики критерия для гипотезы H0: m1=m2, сигмы неизвестна\n",
    "\n",
    "alpha = 0.1 # задаёмся уровнем значимости\n",
    "fisher_no_m_quantile1 = chi2_test_f_dist.ppf(alpha / 2, n1-1,n2-1) # рассчитываем квантиль распределения Стьюдента\n",
    "fisher_no_m_quantile2 = chi2_test_f_dist.ppf(1 - alpha / 2, n1-1,n2-1) # рассчитываем квантиль распределения Стьюдента\n",
    "\n",
    "critical_value1 = fisher_no_m_quantile1 # критическое значение статистики критерия\n",
    "critical_value2 = fisher_no_m_quantile2 # критическое значение статистики критерия\n",
    "\n",
    "print(\"Значение критерия: {}, критическое значение1: {}, критическое значение2: {}\".format(criterion_value, \n",
    "                                                                                           critical_value1,\n",
    "                                                                                           critical_value2))\n",
    "\n",
    "is_h0_true1 = critical_value1 < criterion_value \n",
    "is_h0_true2 = criterion_value < critical_value2\n",
    "\n",
    "print(\"Гипотеза H0 принимается\" if (is_h0_true1 and is_h0_true2) else \"Гипотеза H0 отклоняется\")\n",
    "\n",
    "# статистика критерия в предыдущем примере распределена как F(n1,n2)\n",
    "def left_p_value(dist, criterion_value, sample_size1 , sample_size2):\n",
    "    return dist.cdf(criterion_value, sample_size1-1 , sample_size2-1 )\n",
    "\n",
    "def right_p_value(dist, criterion_value, sample_size1 , sample_size2):\n",
    "    return 1 - dist.cdf(criterion_value, sample_size1-1 , sample_size2-1)\n",
    "\n",
    "def two_sided_p_value(dist, criterion_value, sample_size1 , sample_size2):\n",
    "    left_p = left_p_value(dist, criterion_value, sample_size1 , sample_size2)\n",
    "    return 2 * min(left_p, 1 - left_p)\n",
    "\n",
    "print(\"Двустороннее p-value: {}\".format( two_sided_p_value(chi2_test_f_dist, criterion_value, n1,n2) ))"
   ]
  },
  {
   "cell_type": "code",
   "execution_count": 97,
   "metadata": {},
   "outputs": [
    {
     "name": "stdout",
     "output_type": "stream",
     "text": [
      "Критерий:\n",
      "среднее = -0.05898394069488458, s^2 = 1.0945720741666036, s = 1.0462179859697518\n",
      "P-value:\n",
      "среднее = 0.4908035543715414, s^2 = 0.08039753828169262, s = 0.28354459663638915\n"
     ]
    }
   ],
   "source": [
    "N = 500\n",
    "\n",
    "criteria = []\n",
    "p_values = []\n",
    "criterion_dist = t_test_dist\n",
    "\n",
    "for i in range(0, N):\n",
    "    sample1 = gen_x1()\n",
    "    sample2 = gen_x2()\n",
    "    \n",
    "    criterion_value = criterion_t_test(sample1)\n",
    "    criteria.append(criterion_value)\n",
    "    \n",
    "    p_value_left = criterion_dist.cdf(criterion_value, n1-1)\n",
    "    p_value_right = 1 - p_value_left\n",
    "    p_value_two_sided = 2 * min(p_value_left, p_value_right)\n",
    "    p_values.append(p_value_two_sided)\n",
    "\n",
    "print(\"Критерий:\")\n",
    "print(\"среднее = {}, s^2 = {}, s = {}\".format(np.mean(criteria), np.var(criteria), np.std(criteria)))\n",
    "\n",
    "print(\"P-value:\")\n",
    "print(\"среднее = {}, s^2 = {}, s = {}\".format(np.mean(p_values), np.var(p_values), np.std(p_values)))"
   ]
  },
  {
   "cell_type": "code",
   "execution_count": 102,
   "metadata": {},
   "outputs": [
    {
     "data": {
      "image/png": "[encoded data removed]",
      "text/plain": [
       "<Figure size 432x288 with 1 Axes>"
      ]
     },
     "metadata": {
      "needs_background": "light"
     },
     "output_type": "display_data"
    }
   ],
   "source": [
    "fig, ax = plt.subplots()\n",
    "\n",
    "# histogram\n",
    "n, bins, patches = ax.hist(criteria, 20, normed=True)\n",
    "\n",
    "# plot\n",
    "x = np.linspace(criterion_dist.ppf(0.05, n1 - 1), criterion_dist.ppf(0.95,n1 -1), 100)\n",
    "ax.plot(x, criterion_dist.pdf(x,n1 - 1), 'r-', lw=5, alpha=0.6, label='Theoretical')\n",
    "\n",
    "ax.set_title(\"Статистика критерия\")\n",
    "ax.set_ylabel(\"Плотность вероятности\")\n",
    "\n",
    "fig.tight_layout()\n",
    "plt.show()"
   ]
  },
  {
   "cell_type": "code",
   "execution_count": 103,
   "metadata": {},
   "outputs": [
    {
     "data": {
      "image/png": "[encoded data removed]",
      "text/plain": [
       "<Figure size 432x288 with 1 Axes>"
      ]
     },
     "metadata": {
      "needs_background": "light"
     },
     "output_type": "display_data"
    }
   ],
   "source": [
    "fig, ax = plt.subplots()\n",
    "\n",
    "# histogram\n",
    "n, bins, patches = ax.hist(p_values, 20, normed=True)\n",
    "\n",
    "# plot\n",
    "x = np.linspace(stats.uniform.ppf(0.01), stats.uniform.ppf(0.99), 100)\n",
    "ax.plot(x, stats.uniform.pdf(x), 'r-', lw=5, alpha=0.6, label='Theoretical')\n",
    "\n",
    "ax.set_title(\"P-values\")\n",
    "ax.set_ylabel(\"Плотность вероятности\")\n",
    "\n",
    "fig.tight_layout()\n",
    "plt.show()"
   ]
  },
  {
   "cell_type": "code",
   "execution_count": null,
   "metadata": {},
   "outputs": [],
   "source": []
  },
  {
   "cell_type": "code",
   "execution_count": null,
   "metadata": {},
   "outputs": [],
   "source": []
  }
 ],
 "metadata": {
  "kernelspec": {
   "display_name": "Python 3",
   "language": "python",
   "name": "python3"
  },
  "language_info": {
   "codemirror_mode": {
    "name": "ipython",
    "version": 3
   },
   "file_extension": ".py",
   "mimetype": "text/x-python",
   "name": "python",
   "nbconvert_exporter": "python",
   "pygments_lexer": "ipython3",
   "version": "3.7.1"
  }
 },
 "nbformat": 4,
 "nbformat_minor": 2
}
